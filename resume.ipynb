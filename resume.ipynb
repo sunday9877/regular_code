{
 "cells": [
  {
   "cell_type": "code",
   "execution_count": 2,
   "metadata": {},
   "outputs": [],
   "source": [
    "from docx import Document\n",
    "from docx.shared import Pt\n",
    "from docx.enum.text import WD_ALIGN_PARAGRAPH"
   ]
  },
  {
   "cell_type": "code",
   "execution_count": 15,
   "metadata": {},
   "outputs": [
    {
     "name": "stdout",
     "output_type": "stream",
     "text": [
      "Resume template created successfully as 'resume_template.docx'\n"
     ]
    }
   ],
   "source": [
    "# Create a new Document\n",
    "doc = Document()\n",
    "\n",
    "# Set document title\n",
    "title = doc.add_heading('Di Sang', 0)\n",
    "title.alignment = WD_ALIGN_PARAGRAPH.CENTER\n",
    "\n",
    "# Personal Information\n",
    "personal_info = doc.add_paragraph()\n",
    "#personal_info.add_run('').bold = True\n",
    "personal_info.add_run('\\nAddress: 11A Heritage Sq, Mansfield, CT, 06250')\n",
    "personal_info.add_run('\\nPhone: 7864798221')\n",
    "personal_info.add_run('\\nEmail: di.sang@uconn.edu')\n",
    "\n",
    "# Blank line\n",
    "doc.add_paragraph()\n",
    "\n",
    "# Objective (Optional)\n",
    "doc.add_heading('Objective', level=1)\n",
    "objective = doc.add_paragraph()\n",
    "objective.add_run('A brief statement summarizing your career goals and what you can bring to the job.')\n",
    "\n",
    "# Blank line\n",
    "doc.add_paragraph()\n",
    "\n",
    "# Education\n",
    "doc.add_heading('Education', level=1)\n",
    "education = doc.add_paragraph()\n",
    "education.add_run('\\nUniversity of Connecticut, Storrs, Connecticut').bold = True\n",
    "education.add_run('\\nMaster of Sicence, Data Science, August 2023 - Present')\n",
    "education.add_run('\\nMichigan Technological University, Houghton, Michigan').bold = True\n",
    "education.add_run('\\nAtmospheric  Science, May 2021 - August 2023')\n",
    "\n",
    "education.add_run('\\nUniversity of Miami, Miami, Florida').bold = True\n",
    "education.add_run('\\nMaster of Sicence, Ocean Science， May 2021')\n",
    "\n",
    "education.add_run('\\nLan Zhou University, LanZhou, Gansu').bold = True\n",
    "education.add_run('\\nBachelor of Science, Atmospheric Science ,July 2017')\n",
    "\n",
    "# Blank line\n",
    "doc.add_paragraph()\n",
    "\n",
    "# Skills\n",
    "doc.add_heading('Technical Skills', level=1)\n",
    "skills = doc.add_paragraph(style='List Bullet')\n",
    "skills.add_run('Python').bold = True\n",
    "skills.add_run(': Data wrangling, statistic analysis, linear regression, image pre-processing, and geospatial analysis.')\n",
    "skills = doc.add_paragraph(style='List Bullet')\n",
    "skills.add_run('R').bold = True\n",
    "skills.add_run(': Data wrangling, statistic analysis.')\n",
    "skills = doc.add_paragraph(style='List Bullet')\n",
    "skills.add_run('HPC').bold = True\n",
    "skills.add_run(': HPC parallel running, and data processing with python using HPC clusters.')\n",
    "skills = doc.add_paragraph(style='List Bullet')\n",
    "skills.add_run('WRF').bold = True\n",
    "skills.add_run(': WRF model running, and CHEM module setting up.')\n",
    "\n",
    "\n",
    "# Blank line\n",
    "doc.add_paragraph()\n",
    "\n",
    "# Work Experience\n",
    "doc.add_heading('Work Experience', level=1)\n",
    "work_experience = doc.add_paragraph()\n",
    "work_experience.add_run('Michigan Technological University, Houghton, Michigan').bold = True\n",
    "work_experience.add_run('\\nGraduate Research Assistant, May, 2021 - Aug, 2023')\n",
    "work_experience.add_run('\\nDust source mapping and modeling the dust cycle using satellite aerosol data and WRF model.').bold = True\n",
    "\n",
    "\n",
    "\n",
    "work_experience = doc.add_paragraph(style='List Bullet')\n",
    "work_experience.add_run('Satellite aerosol data analysis: Data Acquisition, Data Preprocessing, Data Visualization, Image Classification, and Interpretation.')\n",
    "\n",
    "\n",
    "work_experience = doc.add_paragraph(style='List Bullet')\n",
    "work_experience.add_run('Running the Weather Research and Forecasting (WRF) Model on NASA High Performance Computing (HPC) and a local server based on Linux systems. Model Training using the dust frequency map from previous work. Model Validation and Evaluation using local weather station data and MODIS Deep Blue AOD data.')\n",
    "\n",
    "\n",
    "\n",
    "# Save the document\n",
    "doc.save('resume_template.docx')\n",
    "\n",
    "print(\"Resume template created successfully as 'resume_template.docx'\")"
   ]
  },
  {
   "cell_type": "code",
   "execution_count": null,
   "metadata": {},
   "outputs": [],
   "source": []
  },
  {
   "cell_type": "code",
   "execution_count": null,
   "metadata": {},
   "outputs": [],
   "source": [
    "Python: Statistic analysis, image pre-processing, and geocoding with GDAL and Cartopy. \n",
    "Linux: Knowledge and skilled use of system operation commands; scripting and automation such as data acquisition with bash scripts.\n",
    "HPC: Model parallel running, and data processing with python using HPC clusters.\n",
    "R: Statistic analysis such as T-test, ANOVA.\n",
    "IDL: Image processing skills and spectral analysis.\n",
    "Matlab: Data process and meteorological data visualization.\n"
   ]
  },
  {
   "cell_type": "code",
   "execution_count": null,
   "metadata": {},
   "outputs": [],
   "source": [
    "Dust source mapping and modeling the dust cycle in Central Asia using satellite aerosol data and WRF model.\n",
    "●\tSatellite aerosol data analysis: Data Acquisition, Data Preprocessing, Data Visualization, Image Classification, and Interpretation. Processing the aerosol data from SEVIRI, TROPOMI, EPIC, and VIIRS to dust frequency maps.\n",
    "●\tRunning the Weather Research and Forecasting (WRF) Model on NASA High Performance Computing (HPC) and a local server based on Linux systems. Model Training using the dust frequency map from previous work. Model Validation and Evaluation using local weather station data and MODIS Deep Blue AOD data.\n"
   ]
  },
  {
   "cell_type": "code",
   "execution_count": null,
   "metadata": {},
   "outputs": [],
   "source": [
    "Running the Weather Research and Forecasting (WRF) Model on NASA High Performance Computing (HPC) and a local server based on Linux systems. Model Training using the dust frequency map from previous work. Model Validation and Evaluation using local weather station data and MODIS Deep Blue AOD data."
   ]
  }
 ],
 "metadata": {
  "kernelspec": {
   "display_name": "base",
   "language": "python",
   "name": "python3"
  },
  "language_info": {
   "codemirror_mode": {
    "name": "ipython",
    "version": 3
   },
   "file_extension": ".py",
   "mimetype": "text/x-python",
   "name": "python",
   "nbconvert_exporter": "python",
   "pygments_lexer": "ipython3",
   "version": "3.9.13"
  },
  "orig_nbformat": 4
 },
 "nbformat": 4,
 "nbformat_minor": 2
}
